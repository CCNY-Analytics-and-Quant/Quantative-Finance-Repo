{
 "cells": [
  {
   "cell_type": "markdown",
   "metadata": {},
   "source": [
    "### The Requirements:\n",
    "Step 1: Choose an ETF with a minimum of 100 assets, identify those assets\n",
    "\n",
    "Step 2: Retrieve historical data for your chosen ETF\n",
    "\n",
    "Step 3: Calculate the price momentum factors for each asset in your ETF\n",
    "\n",
    "Step 4: Using the price momentum factors, calculate the monthly z-factor score for each asset\n",
    "\n",
    "Step 5: Identify long and short baskets (10 to 15 assets in each) using calculated z-factors\n",
    "\n",
    "Step 6: Create a backtest to validate performance of your algorithm based on monthly restructuring over the previous 5 years.\n",
    "\n",
    "Step 7: Chart:\n",
    "\n",
    "1. Monthly portfolio return bar chart (pos/neg coloring) vs ETF\n",
    "\n",
    "2. Monthly return for/ long picks vs short picks vs ETF\n",
    "\n",
    "3. Cumulative portfolio return vs ETF"
   ]
  },
  {
   "cell_type": "code",
   "execution_count": 38,
   "metadata": {},
   "outputs": [],
   "source": [
    "# Import Libraries\n",
    "import pandas as pd\n",
    "import yfinance as yf\n",
    "\n",
    "import numpy as np\n",
    "import matplotlib.pyplot as plt"
   ]
  },
  {
   "cell_type": "code",
   "execution_count": 3,
   "metadata": {},
   "outputs": [],
   "source": [
    "class Factors:\n",
    "    \n",
    "    def __init__(self) -> None:\n",
    "        pass\n",
    "    \n",
    "    def get_data(tickers_list):\n",
    "        # Step 2: Retrieve historical data for your chosen ETF\n",
    "        # Adj Close\n",
    "        df = yf.download(tickers_list, period = '10y')['Adj Close']\n",
    "        return df"
   ]
  },
  {
   "cell_type": "code",
   "execution_count": 4,
   "metadata": {},
   "outputs": [
    {
     "name": "stdout",
     "output_type": "stream",
     "text": [
      "504 tickers\n"
     ]
    }
   ],
   "source": [
    "# Step 1: Choose an ETF with a minimum of 100 assets, identify those assets\n",
    "# etf = [\"SPY\"]\n",
    "\n",
    "# Get the list of S&P 500 constituents\n",
    "# SPY_tickers = pd.read_html('https://en.wikipedia.org/wiki/List_of_S%26P_500_companies')[0]['Symbol'].tolist()\n",
    "SPY_tickers = pd.read_excel(\"https://www.ssga.com/us/en/intermediary/etfs/library-content/products/fund-data/etfs/us/holdings-daily-us-en-spy.xlsx\", header=4).Ticker.dropna().to_list()\n",
    "\n",
    "print(f'{len(SPY_tickers)} tickers')\n"
   ]
  },
  {
   "cell_type": "code",
   "execution_count": 5,
   "metadata": {},
   "outputs": [
    {
     "name": "stdout",
     "output_type": "stream",
     "text": [
      "[*********************100%%**********************]  504 of 504 completed"
     ]
    },
    {
     "name": "stderr",
     "output_type": "stream",
     "text": [
      "\n",
      "17 Failed downloads:\n",
      "['MRK', 'TMO', 'AMT', 'GRMN', 'DIS', 'NKE', 'EMN', 'RCL', 'ICE', 'FIS', 'DTE', 'TROW', 'KDP', 'VTR']: TypeError(\"unsupported operand type(s) for |: 'dict' and 'dict'\")\n",
      "['-', 'BRK.B']: Exception('%ticker%: No data found, symbol may be delisted')\n",
      "['BF.B']: Exception('%ticker%: No price data found, symbol may be delisted (period=10y)')\n"
     ]
    },
    {
     "name": "stdout",
     "output_type": "stream",
     "text": [
      "\n"
     ]
    }
   ],
   "source": [
    "# Step 2: Retrieve historical data for your chosen ETF\n",
    "df = yf.download(SPY_tickers, period = '10y')['Adj Close']\n"
   ]
  },
  {
   "cell_type": "code",
   "execution_count": 6,
   "metadata": {},
   "outputs": [],
   "source": [
    "# Drop na\n",
    "sp500 = df.dropna(how= 'all', axis= 1)\n",
    "# sp500.head()\n",
    "returns = sp500.pct_change()"
   ]
  },
  {
   "cell_type": "code",
   "execution_count": 7,
   "metadata": {},
   "outputs": [],
   "source": [
    "# Get a clean list of ticker list with data\n",
    "tickers = list(sp500.columns)"
   ]
  },
  {
   "cell_type": "code",
   "execution_count": 8,
   "metadata": {},
   "outputs": [
    {
     "data": {
      "text/plain": [
       "Date\n",
       "2013-12-13           NaN\n",
       "2013-12-16           NaN\n",
       "2013-12-17           NaN\n",
       "2013-12-18           NaN\n",
       "2013-12-19           NaN\n",
       "                 ...    \n",
       "2023-12-06    128.737452\n",
       "2023-12-07    128.651705\n",
       "2023-12-08    128.550707\n",
       "2023-12-11    128.446684\n",
       "2023-12-12    128.355069\n",
       "Name: A, Length: 2516, dtype: float64"
      ]
     },
     "execution_count": 8,
     "metadata": {},
     "output_type": "execute_result"
    }
   ],
   "source": [
    "# Step 3: Calculate the price momentum factors for each asset in your ETF\n",
    "\n",
    "sp500['A'].rolling(window=252).mean()\n"
   ]
  },
  {
   "cell_type": "code",
   "execution_count": 9,
   "metadata": {},
   "outputs": [],
   "source": [
    "rolling_mean = sp500['A'].rolling(window=252)"
   ]
  },
  {
   "cell_type": "code",
   "execution_count": 10,
   "metadata": {},
   "outputs": [
    {
     "name": "stdout",
     "output_type": "stream",
     "text": [
      "52-Week Slope: 0.05553088193744345\n"
     ]
    }
   ],
   "source": [
    "\n",
    "# Calculate the 52-week rolling mean\n",
    "rolling_mean = sp500['A'].rolling(window=252).mean()\n",
    "\n",
    "# Drop NaN values introduced by the rolling mean calculation\n",
    "rolling_mean = rolling_mean.dropna()\n",
    "\n",
    "# Prepare data for linear regression\n",
    "X = np.arange(len(rolling_mean)).reshape(-1, 1)\n",
    "y = rolling_mean.values.reshape(-1, 1)\n",
    "\n",
    "# Use NumPy for linear regression\n",
    "slope = np.polyfit(X.flatten(), y.flatten(), 1)[0]\n",
    "\n",
    "# Print the calculated slope\n",
    "print(\"52-Week Slope:\", slope)\n"
   ]
  },
  {
   "cell_type": "code",
   "execution_count": 11,
   "metadata": {},
   "outputs": [
    {
     "name": "stdout",
     "output_type": "stream",
     "text": [
      "52-Week Slope: 0.055836418460213005\n"
     ]
    }
   ],
   "source": [
    "# Calculate the 52-week rolling mean with a 20 day lag \n",
    "# Drop NaN values introduced by the rolling mean calculation\n",
    "lagged_rolling_mean = rolling_mean.shift(20).dropna()\n",
    "\n",
    "# Prepare data for linear regression\n",
    "X = np.arange(len(lagged_rolling_mean)).reshape(-1, 1)\n",
    "y = lagged_rolling_mean.values.reshape(-1, 1)\n",
    "\n",
    "# Use NumPy for linear regression\n",
    "slope = np.polyfit(X.flatten(), y.flatten(), 1)[0]\n",
    "\n",
    "# Print the calculated slope\n",
    "print(\"52-Week Slope:\", slope)"
   ]
  },
  {
   "cell_type": "code",
   "execution_count": 12,
   "metadata": {},
   "outputs": [
    {
     "data": {
      "text/plain": [
       "A      -0.202684\n",
       "AAL    -0.005747\n",
       "AAPL    0.208244\n",
       "ABBV   -0.037978\n",
       "ABNB    0.153597\n",
       "          ...   \n",
       "YUM    -0.000618\n",
       "ZBH    -0.035719\n",
       "ZBRA   -0.228396\n",
       "ZION   -0.072524\n",
       "ZTS     0.111694\n",
       "Name: 0, Length: 487, dtype: float64"
      ]
     },
     "execution_count": 12,
     "metadata": {},
     "output_type": "execute_result"
    }
   ],
   "source": [
    "\n",
    "# 20 day lag time period \n",
    "starting_period = -20 -252\n",
    "end_period = -20\n",
    "lagged_closed_price = sp500[starting_period : end_period]\n",
    "\n",
    "# calculating 52 Week trend \n",
    "polyfit_regression = np.polyfit((range(0,252)), lagged_closed_price, 1) \n",
    "# The first parameter of our regression is x, 0-252 days. Second is the y, Closing price for slice of data with 20 - day lag\n",
    "slope_info = pd.DataFrame(polyfit_regression) # Convert so that we can use the results\n",
    "slope_info.columns = sp500.columns # Setting column names to match ticker\n",
    "_52_week_trend= slope_info.iloc[0] # Only need first row \n",
    "_52_week_trend"
   ]
  },
  {
   "cell_type": "code",
   "execution_count": 13,
   "metadata": {},
   "outputs": [
    {
     "data": {
      "text/plain": [
       "A      -0.193796\n",
       "AAL    -0.007913\n",
       "AAPL    0.212695\n",
       "ABBV   -0.040952\n",
       "ABNB    0.144656\n",
       "          ...   \n",
       "YUM    -0.007900\n",
       "ZBH    -0.055338\n",
       "ZBRA   -0.277950\n",
       "ZION   -0.060711\n",
       "ZTS     0.099903\n",
       "Length: 487, dtype: float64"
      ]
     },
     "execution_count": 13,
     "metadata": {},
     "output_type": "execute_result"
    }
   ],
   "source": [
    "def trendline(ticker):\n",
    "    df = pd.DataFrame(index=tickers)\n",
    "    \n",
    "    # for 20 day\n",
    "    for i in range(1,21):\n",
    "        df[i] = np.polyfit(range(len(sp500[-i - 252 : -i])), sp500[-i - 252 : -i], 1)[0]\n",
    "    # averages out the day\n",
    "    return df.mean(axis=1)\n",
    "    \n",
    "slope = trendline(ticker=tickers)\n",
    "slope"
   ]
  },
  {
   "cell_type": "markdown",
   "metadata": {},
   "source": [
    "### factor two - Percent Aboce 260-Day Low\n",
    "\n",
    "- calculates the percentage difference between the current adjusted close price and the minimum adjusted close price over the past 260 days\n",
    "\n",
    "- highlights how much the price has risen vs its lowest point over the past year\n",
    "\n",
    "- higher percentage means the price is farther above the annual low"
   ]
  },
  {
   "cell_type": "code",
   "execution_count": 30,
   "metadata": {},
   "outputs": [
    {
     "data": {
      "text/plain": [
       "A       31.467455\n",
       "AAL     39.398867\n",
       "AAPL    48.185816\n",
       "ABBV    34.731540\n",
       "ABNB    33.499610\n",
       "          ...    \n",
       "YUM     31.013485\n",
       "ZBH     27.242573\n",
       "ZBRA    55.835282\n",
       "ZION    44.767270\n",
       "ZTS     38.970628\n",
       "Length: 487, dtype: float64"
      ]
     },
     "execution_count": 30,
     "metadata": {},
     "output_type": "execute_result"
    }
   ],
   "source": [
    "# factor two - Percent Aboce 260-Day Low\n",
    "## calculates the percentage difference between the current adjusted close price and the minimum adjusted close price over the past 260 days\n",
    "## highlights how much the price has risen vs its lowest point over the past year\n",
    "## \n",
    "_260_day_low = sp500.rolling(window=260).min()\n",
    "# Percent_Above_260Day_Low = (sp500 - _260_day_low) / (data['High'].rolling(window=260 - lag).max() - data['Low'].rolling(window=260 - lag).min()) * 100\n",
    "Percent_Above_260Day_Low = (sp500 - _260_day_low) / _260_day_low * 100\n",
    "Percent_Above_260Day_Low = Percent_Above_260Day_Low.mean()\n",
    "Percent_Above_260Day_Low"
   ]
  },
  {
   "cell_type": "code",
   "execution_count": 48,
   "metadata": {},
   "outputs": [
    {
     "data": {
      "text/plain": [
       "MSCI     50.162328\n",
       "CDNS     50.322312\n",
       "BA       50.323928\n",
       "TPR      50.517914\n",
       "AMZN     50.661014\n",
       "           ...    \n",
       "NVDA    119.123363\n",
       "TSLA    140.397279\n",
       "CZR     158.963148\n",
       "ENPH    197.135666\n",
       "MRNA    213.949547\n",
       "Length: 80, dtype: float64"
      ]
     },
     "execution_count": 48,
     "metadata": {},
     "output_type": "execute_result"
    }
   ],
   "source": [
    "# lets see the ones above 50%\n",
    "Percent_Above_260Day_Low[Percent_Above_260Day_Low > 50].sort_values()"
   ]
  },
  {
   "cell_type": "code",
   "execution_count": 49,
   "metadata": {},
   "outputs": [
    {
     "data": {
      "text/plain": [
       "VZ      14.599790\n",
       "CL      14.957412\n",
       "K       16.104989\n",
       "D       16.542877\n",
       "KMB     18.143552\n",
       "          ...    \n",
       "STX     49.587548\n",
       "COP     49.755032\n",
       "NXPI    49.755707\n",
       "CCL     49.885909\n",
       "CF      49.994788\n",
       "Length: 404, dtype: float64"
      ]
     },
     "execution_count": 49,
     "metadata": {},
     "output_type": "execute_result"
    }
   ],
   "source": [
    "# lets see the ones below 50%\n",
    "Percent_Above_260Day_Low[Percent_Above_260Day_Low < 50].sort_values()"
   ]
  },
  {
   "cell_type": "markdown",
   "metadata": {},
   "source": [
    "### Factor 3: 4/52 Week Price Oscillator (20-day lag)\n",
    "- calculates the percentage difference between the 4-week moving average and the 52-week moving average of the adjusted close prices\n",
    "\n",
    "- we can understand this as:\n",
    "    - helps identify short term trends compared to longer trends\n",
    "    - a positive = short-term trend has a stronger strength relative to the long-term trend"
   ]
  },
  {
   "cell_type": "code",
   "execution_count": null,
   "metadata": {},
   "outputs": [],
   "source": [
    "# Factor 3: 4/52 Week Price Oscillator (20-day lag)\n",
    "    \n",
    "\n",
    "    data['Price_Oscillator'] = (data['Close'].rolling(window=4).mean() / data['Close'].rolling(window=52 - lag).mean() - 1) * 100"
   ]
  },
  {
   "cell_type": "code",
   "execution_count": 15,
   "metadata": {},
   "outputs": [
    {
     "ename": "NameError",
     "evalue": "name 'data' is not defined",
     "output_type": "error",
     "traceback": [
      "\u001b[0;31m---------------------------------------------------------------------------\u001b[0m",
      "\u001b[0;31mNameError\u001b[0m                                 Traceback (most recent call last)",
      "\u001b[1;32m/Users/alex/Documents/GitHub/Quantative-Finance-Repo/Final-Project/workbooks/draft.ipynb Cell 15\u001b[0m line \u001b[0;36m3\n\u001b[1;32m     <a href='vscode-notebook-cell:/Users/alex/Documents/GitHub/Quantative-Finance-Repo/Final-Project/workbooks/draft.ipynb#X21sZmlsZQ%3D%3D?line=29'>30</a>\u001b[0m all_asset \u001b[39m=\u001b[39m {}\n\u001b[1;32m     <a href='vscode-notebook-cell:/Users/alex/Documents/GitHub/Quantative-Finance-Repo/Final-Project/workbooks/draft.ipynb#X21sZmlsZQ%3D%3D?line=31'>32</a>\u001b[0m \u001b[39mfor\u001b[39;00m asset \u001b[39min\u001b[39;00m tickers:\n\u001b[0;32m---> <a href='vscode-notebook-cell:/Users/alex/Documents/GitHub/Quantative-Finance-Repo/Final-Project/workbooks/draft.ipynb#X21sZmlsZQ%3D%3D?line=32'>33</a>\u001b[0m     assets_momentum_factors \u001b[39m=\u001b[39m sp500[asset]\u001b[39m.\u001b[39;49mapply(calculate_momentum_factors)\n\u001b[1;32m     <a href='vscode-notebook-cell:/Users/alex/Documents/GitHub/Quantative-Finance-Repo/Final-Project/workbooks/draft.ipynb#X21sZmlsZQ%3D%3D?line=34'>35</a>\u001b[0m \u001b[39m# Display the calculated price momentum factors\u001b[39;00m\n\u001b[1;32m     <a href='vscode-notebook-cell:/Users/alex/Documents/GitHub/Quantative-Finance-Repo/Final-Project/workbooks/draft.ipynb#X21sZmlsZQ%3D%3D?line=35'>36</a>\u001b[0m \u001b[39m# print(\"ETF Momentum Factors:\")\u001b[39;00m\n\u001b[1;32m     <a href='vscode-notebook-cell:/Users/alex/Documents/GitHub/Quantative-Finance-Repo/Final-Project/workbooks/draft.ipynb#X21sZmlsZQ%3D%3D?line=36'>37</a>\u001b[0m \u001b[39m# print(etf_momentum_factors.head())\u001b[39;00m\n\u001b[1;32m     <a href='vscode-notebook-cell:/Users/alex/Documents/GitHub/Quantative-Finance-Repo/Final-Project/workbooks/draft.ipynb#X21sZmlsZQ%3D%3D?line=37'>38</a>\u001b[0m \u001b[39mprint\u001b[39m(\u001b[39m\"\u001b[39m\u001b[39m\\n\u001b[39;00m\u001b[39mAsset Momentum Factors:\u001b[39m\u001b[39m\"\u001b[39m)\n",
      "File \u001b[0;32m~/opt/anaconda3/lib/python3.8/site-packages/pandas/core/series.py:4630\u001b[0m, in \u001b[0;36mSeries.apply\u001b[0;34m(self, func, convert_dtype, args, **kwargs)\u001b[0m\n\u001b[1;32m   4520\u001b[0m \u001b[39mdef\u001b[39;00m \u001b[39mapply\u001b[39m(\n\u001b[1;32m   4521\u001b[0m     \u001b[39mself\u001b[39m,\n\u001b[1;32m   4522\u001b[0m     func: AggFuncType,\n\u001b[0;32m   (...)\u001b[0m\n\u001b[1;32m   4525\u001b[0m     \u001b[39m*\u001b[39m\u001b[39m*\u001b[39mkwargs,\n\u001b[1;32m   4526\u001b[0m ) \u001b[39m-\u001b[39m\u001b[39m>\u001b[39m DataFrame \u001b[39m|\u001b[39m Series:\n\u001b[1;32m   4527\u001b[0m \u001b[39m    \u001b[39m\u001b[39m\"\"\"\u001b[39;00m\n\u001b[1;32m   4528\u001b[0m \u001b[39m    Invoke function on values of Series.\u001b[39;00m\n\u001b[1;32m   4529\u001b[0m \n\u001b[0;32m   (...)\u001b[0m\n\u001b[1;32m   4628\u001b[0m \u001b[39m    dtype: float64\u001b[39;00m\n\u001b[1;32m   4629\u001b[0m \u001b[39m    \"\"\"\u001b[39;00m\n\u001b[0;32m-> 4630\u001b[0m     \u001b[39mreturn\u001b[39;00m SeriesApply(\u001b[39mself\u001b[39;49m, func, convert_dtype, args, kwargs)\u001b[39m.\u001b[39;49mapply()\n",
      "File \u001b[0;32m~/opt/anaconda3/lib/python3.8/site-packages/pandas/core/apply.py:1025\u001b[0m, in \u001b[0;36mSeriesApply.apply\u001b[0;34m(self)\u001b[0m\n\u001b[1;32m   1022\u001b[0m     \u001b[39mreturn\u001b[39;00m \u001b[39mself\u001b[39m\u001b[39m.\u001b[39mapply_str()\n\u001b[1;32m   1024\u001b[0m \u001b[39m# self.f is Callable\u001b[39;00m\n\u001b[0;32m-> 1025\u001b[0m \u001b[39mreturn\u001b[39;00m \u001b[39mself\u001b[39;49m\u001b[39m.\u001b[39;49mapply_standard()\n",
      "File \u001b[0;32m~/opt/anaconda3/lib/python3.8/site-packages/pandas/core/apply.py:1076\u001b[0m, in \u001b[0;36mSeriesApply.apply_standard\u001b[0;34m(self)\u001b[0m\n\u001b[1;32m   1074\u001b[0m     \u001b[39melse\u001b[39;00m:\n\u001b[1;32m   1075\u001b[0m         values \u001b[39m=\u001b[39m obj\u001b[39m.\u001b[39mastype(\u001b[39mobject\u001b[39m)\u001b[39m.\u001b[39m_values\n\u001b[0;32m-> 1076\u001b[0m         mapped \u001b[39m=\u001b[39m lib\u001b[39m.\u001b[39;49mmap_infer(\n\u001b[1;32m   1077\u001b[0m             values,\n\u001b[1;32m   1078\u001b[0m             f,\n\u001b[1;32m   1079\u001b[0m             convert\u001b[39m=\u001b[39;49m\u001b[39mself\u001b[39;49m\u001b[39m.\u001b[39;49mconvert_dtype,\n\u001b[1;32m   1080\u001b[0m         )\n\u001b[1;32m   1082\u001b[0m \u001b[39mif\u001b[39;00m \u001b[39mlen\u001b[39m(mapped) \u001b[39mand\u001b[39;00m \u001b[39misinstance\u001b[39m(mapped[\u001b[39m0\u001b[39m], ABCSeries):\n\u001b[1;32m   1083\u001b[0m     \u001b[39m# GH#43986 Need to do list(mapped) in order to get treated as nested\u001b[39;00m\n\u001b[1;32m   1084\u001b[0m     \u001b[39m#  See also GH#25959 regarding EA support\u001b[39;00m\n\u001b[1;32m   1085\u001b[0m     \u001b[39mreturn\u001b[39;00m obj\u001b[39m.\u001b[39m_constructor_expanddim(\u001b[39mlist\u001b[39m(mapped), index\u001b[39m=\u001b[39mobj\u001b[39m.\u001b[39mindex)\n",
      "File \u001b[0;32m~/opt/anaconda3/lib/python3.8/site-packages/pandas/_libs/lib.pyx:2834\u001b[0m, in \u001b[0;36mpandas._libs.lib.map_infer\u001b[0;34m()\u001b[0m\n",
      "\u001b[1;32m/Users/alex/Documents/GitHub/Quantative-Finance-Repo/Final-Project/workbooks/draft.ipynb Cell 15\u001b[0m line \u001b[0;36m9\n\u001b[1;32m      <a href='vscode-notebook-cell:/Users/alex/Documents/GitHub/Quantative-Finance-Repo/Final-Project/workbooks/draft.ipynb#X21sZmlsZQ%3D%3D?line=2'>3</a>\u001b[0m \u001b[39mdef\u001b[39;00m \u001b[39mcalculate_momentum_factors\u001b[39m(df, lag\u001b[39m=\u001b[39m\u001b[39m20\u001b[39m):\n\u001b[1;32m      <a href='vscode-notebook-cell:/Users/alex/Documents/GitHub/Quantative-Finance-Repo/Final-Project/workbooks/draft.ipynb#X21sZmlsZQ%3D%3D?line=3'>4</a>\u001b[0m     \n\u001b[1;32m      <a href='vscode-notebook-cell:/Users/alex/Documents/GitHub/Quantative-Finance-Repo/Final-Project/workbooks/draft.ipynb#X21sZmlsZQ%3D%3D?line=4'>5</a>\u001b[0m     \u001b[39m# data['52_week_trend_slope'] = slope\u001b[39;00m\n\u001b[1;32m      <a href='vscode-notebook-cell:/Users/alex/Documents/GitHub/Quantative-Finance-Repo/Final-Project/workbooks/draft.ipynb#X21sZmlsZQ%3D%3D?line=5'>6</a>\u001b[0m     \n\u001b[1;32m      <a href='vscode-notebook-cell:/Users/alex/Documents/GitHub/Quantative-Finance-Repo/Final-Project/workbooks/draft.ipynb#X21sZmlsZQ%3D%3D?line=6'>7</a>\u001b[0m     \n\u001b[1;32m      <a href='vscode-notebook-cell:/Users/alex/Documents/GitHub/Quantative-Finance-Repo/Final-Project/workbooks/draft.ipynb#X21sZmlsZQ%3D%3D?line=7'>8</a>\u001b[0m     \u001b[39m# Factor 2: Percent above 260-day low (20-day lag)\u001b[39;00m\n\u001b[0;32m----> <a href='vscode-notebook-cell:/Users/alex/Documents/GitHub/Quantative-Finance-Repo/Final-Project/workbooks/draft.ipynb#X21sZmlsZQ%3D%3D?line=8'>9</a>\u001b[0m     slope[\u001b[39m'\u001b[39m\u001b[39mPercent_Above_260Day_Low\u001b[39m\u001b[39m'\u001b[39m] \u001b[39m=\u001b[39m (data[\u001b[39m'\u001b[39m\u001b[39mClose\u001b[39m\u001b[39m'\u001b[39m] \u001b[39m-\u001b[39m data[\u001b[39m'\u001b[39m\u001b[39mLow\u001b[39m\u001b[39m'\u001b[39m]\u001b[39m.\u001b[39mrolling(window\u001b[39m=\u001b[39m\u001b[39m260\u001b[39m \u001b[39m-\u001b[39m lag)\u001b[39m.\u001b[39mmin()) \u001b[39m/\u001b[39m (data[\u001b[39m'\u001b[39m\u001b[39mHigh\u001b[39m\u001b[39m'\u001b[39m]\u001b[39m.\u001b[39mrolling(window\u001b[39m=\u001b[39m\u001b[39m260\u001b[39m \u001b[39m-\u001b[39m lag)\u001b[39m.\u001b[39mmax() \u001b[39m-\u001b[39m data[\u001b[39m'\u001b[39m\u001b[39mLow\u001b[39m\u001b[39m'\u001b[39m]\u001b[39m.\u001b[39mrolling(window\u001b[39m=\u001b[39m\u001b[39m260\u001b[39m \u001b[39m-\u001b[39m lag)\u001b[39m.\u001b[39mmin()) \u001b[39m*\u001b[39m \u001b[39m100\u001b[39m\n\u001b[1;32m     <a href='vscode-notebook-cell:/Users/alex/Documents/GitHub/Quantative-Finance-Repo/Final-Project/workbooks/draft.ipynb#X21sZmlsZQ%3D%3D?line=10'>11</a>\u001b[0m     \u001b[39m# Percent above 260 day Low\u001b[39;00m\n\u001b[1;32m     <a href='vscode-notebook-cell:/Users/alex/Documents/GitHub/Quantative-Finance-Repo/Final-Project/workbooks/draft.ipynb#X21sZmlsZQ%3D%3D?line=11'>12</a>\u001b[0m     percent_above_260 \u001b[39m=\u001b[39m (data \u001b[39m-\u001b[39m data\u001b[39m.\u001b[39mrolling(window\u001b[39m=\u001b[39m\u001b[39m260\u001b[39m)\u001b[39m.\u001b[39mmin()) \u001b[39m/\u001b[39m lagged_closed_price\u001b[39m.\u001b[39mrolling(window\u001b[39m=\u001b[39m\u001b[39m260\u001b[39m)\u001b[39m.\u001b[39mmin() \u001b[39m*\u001b[39m \u001b[39m100\u001b[39m\n",
      "\u001b[0;31mNameError\u001b[0m: name 'data' is not defined"
     ]
    }
   ],
   "source": [
    "# Step 3: Calculate the price momentum factors for each asset in your ETF\n",
    "\n",
    "def calculate_momentum_factors(tickers, lag=20):\n",
    "    \n",
    "    # data['52_week_trend_slope'] = slope\n",
    "    \n",
    "    \n",
    "    # Factor 2: Percent above 260-day low\n",
    "    \n",
    "\n",
    "\n",
    "    \n",
    "    # Factor 3: 4/52 Week Price Oscillator (20-day lag)\n",
    "    data['Price_Oscillator'] = (data['Close'].rolling(window=4).mean() / data['Close'].rolling(window=52 - lag).mean() - 1) * 100\n",
    "\n",
    "    # Factor 4: 39-week return (20-day lag)\n",
    "    data['39Week_Return'] = data['Close'].pct_change(39 - lag) * 100\n",
    "\n",
    "    # Factor 5: 51-week Volume Price Trend (20-day lag)\n",
    "    data['Volume_Price_Trend'] = (data['Close'].pct_change() * data['Volume']).rolling(window=51 - lag).sum()\n",
    "\n",
    "    return data[['Slope_52Week', 'Percent_Above_260Day_Low', 'Price_Oscillator', '39Week_Return', 'Volume_Price_Trend']]\n",
    "\n",
    "# Apply the function to ETF data and asset data\n",
    "#etf_momentum_factors = calculate_momentum_factors(data)\n",
    "all_asset = {}\n",
    "\n",
    "for asset in tickers:\n",
    "    assets_momentum_factors = sp500[asset].apply(calculate_momentum_factors)\n",
    "\n",
    "# Display the calculated price momentum factors\n",
    "# print(\"ETF Momentum Factors:\")\n",
    "# print(etf_momentum_factors.head())\n",
    "print(\"\\nAsset Momentum Factors:\")\n",
    "print(assets_momentum_factors.head())\n",
    "\n",
    "# # Displaying the signals for each asset\n",
    "# for asset, signals in assets_momentum_factors.items():\n",
    "#     print(f\"Signals for {asset}:\\n{signals}\\n\")\n",
    "\n"
   ]
  },
  {
   "cell_type": "code",
   "execution_count": null,
   "metadata": {},
   "outputs": [],
   "source": []
  }
 ],
 "metadata": {
  "kernelspec": {
   "display_name": "base",
   "language": "python",
   "name": "python3"
  },
  "language_info": {
   "codemirror_mode": {
    "name": "ipython",
    "version": 3
   },
   "file_extension": ".py",
   "mimetype": "text/x-python",
   "name": "python",
   "nbconvert_exporter": "python",
   "pygments_lexer": "ipython3",
   "version": "3.8.17"
  }
 },
 "nbformat": 4,
 "nbformat_minor": 2
}
