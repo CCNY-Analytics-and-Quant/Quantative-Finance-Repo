{
 "cells": [
  {
   "cell_type": "markdown",
   "metadata": {},
   "source": [
    "### The Requirements:\n",
    "Step 1: Choose an ETF with a minimum of 100 assets, identify those assets\n",
    "\n",
    "Step 2: Retrieve historical data for your chosen ETF\n",
    "\n",
    "Step 3: Calculate the price momentum factors for each asset in your ETF\n",
    "\n",
    "Step 4: Using the price momentum factors, calculate the monthly z-factor score for each asset\n",
    "\n",
    "Step 5: Identify long and short baskets (10 to 15 assets in each) using calculated z-factors\n",
    "\n",
    "Step 6: Create a backtest to validate performance of your algorithm based on monthly restructuring over the previous 5 years.\n",
    "\n",
    "Step 7: Chart:\n",
    "\n",
    "1. Monthly portfolio return bar chart (pos/neg coloring) vs ETF\n",
    "\n",
    "2. Monthly return for/ long picks vs short picks vs ETF\n",
    "\n",
    "3. Cumulative portfolio return vs ETF"
   ]
  },
  {
   "cell_type": "code",
   "execution_count": 24,
   "metadata": {},
   "outputs": [],
   "source": [
    "# Import Libraries\n",
    "import pandas as pd\n",
    "import yfinance as yf\n",
    "\n",
    "import numpy as np"
   ]
  },
  {
   "cell_type": "code",
   "execution_count": null,
   "metadata": {},
   "outputs": [],
   "source": [
    "class Factors:\n",
    "    \n",
    "    def __init__(self) -> None:\n",
    "        pass\n",
    "    \n",
    "    def get_data(tickers_list):\n",
    "        # Step 2: Retrieve historical data for your chosen ETF\n",
    "        # Adj Close\n",
    "        df = yf.download(tickers_list, period = '10y')['Adj Close']\n",
    "        return df"
   ]
  },
  {
   "cell_type": "code",
   "execution_count": 25,
   "metadata": {},
   "outputs": [
    {
     "name": "stdout",
     "output_type": "stream",
     "text": [
      "504 tickers\n"
     ]
    }
   ],
   "source": [
    "# Step 1: Choose an ETF with a minimum of 100 assets, identify those assets\n",
    "# etf = [\"SPY\"]\n",
    "\n",
    "# Get the list of S&P 500 constituents\n",
    "# SPY_tickers = pd.read_html('https://en.wikipedia.org/wiki/List_of_S%26P_500_companies')[0]['Symbol'].tolist()\n",
    "SPY_tickers = pd.read_excel(\"https://www.ssga.com/us/en/intermediary/etfs/library-content/products/fund-data/etfs/us/holdings-daily-us-en-spy.xlsx\", header=4).Ticker.dropna().to_list()\n",
    "\n",
    "print(f'{len(SPY_tickers)} tickers')\n"
   ]
  },
  {
   "cell_type": "code",
   "execution_count": 26,
   "metadata": {},
   "outputs": [
    {
     "name": "stdout",
     "output_type": "stream",
     "text": [
      "[*********************100%%**********************]  504 of 504 completed"
     ]
    },
    {
     "name": "stderr",
     "output_type": "stream",
     "text": [
      "\n",
      "3 Failed downloads:\n",
      "['-', 'BRK.B']: Exception('%ticker%: No data found, symbol may be delisted')\n",
      "['BF.B']: Exception('%ticker%: No price data found, symbol may be delisted (period=10y)')\n"
     ]
    },
    {
     "name": "stdout",
     "output_type": "stream",
     "text": [
      "\n"
     ]
    }
   ],
   "source": [
    "# Step 2: Retrieve historical data for your chosen ETF\n",
    "df = yf.download(SPY_tickers, period = '10y')['Adj Close']\n"
   ]
  },
  {
   "cell_type": "code",
   "execution_count": 27,
   "metadata": {},
   "outputs": [],
   "source": [
    "# Drop na\n",
    "sp500 = df.dropna(how= 'all', axis= 1)\n",
    "# sp500.head()\n",
    "returns = sp500.pct_change()"
   ]
  },
  {
   "cell_type": "code",
   "execution_count": 56,
   "metadata": {},
   "outputs": [],
   "source": [
    "tickers = list(sp500.columns)"
   ]
  },
  {
   "cell_type": "code",
   "execution_count": 28,
   "metadata": {},
   "outputs": [
    {
     "data": {
      "text/plain": [
       "Date\n",
       "2013-12-11           NaN\n",
       "2013-12-12           NaN\n",
       "2013-12-13           NaN\n",
       "2013-12-16           NaN\n",
       "2013-12-17           NaN\n",
       "                 ...    \n",
       "2023-12-05    128.827606\n",
       "2023-12-06    128.737452\n",
       "2023-12-07    128.651705\n",
       "2023-12-08    128.550707\n",
       "2023-12-11    128.442994\n",
       "Name: A, Length: 2517, dtype: float64"
      ]
     },
     "execution_count": 28,
     "metadata": {},
     "output_type": "execute_result"
    }
   ],
   "source": [
    "# Step 3: Calculate the price momentum factors for each asset in your ETF\n",
    "\n",
    "sp500['A'].rolling(window=252).mean()\n"
   ]
  },
  {
   "cell_type": "code",
   "execution_count": 29,
   "metadata": {},
   "outputs": [],
   "source": [
    "rolling_mean = sp500['A'].rolling(window=252)"
   ]
  },
  {
   "cell_type": "code",
   "execution_count": 30,
   "metadata": {},
   "outputs": [
    {
     "name": "stdout",
     "output_type": "stream",
     "text": [
      "52-Week Slope: 0.055499019133098876\n"
     ]
    }
   ],
   "source": [
    "# Assuming you have a DataFrame named 'sp500' and want to calculate the slope for column 'A'\n",
    "# sp500 = ...\n",
    "\n",
    "# Calculate the 52-week rolling mean\n",
    "rolling_mean = sp500['A'].rolling(window=252).mean()\n",
    "\n",
    "# Drop NaN values introduced by the rolling mean calculation\n",
    "rolling_mean = rolling_mean.dropna()\n",
    "\n",
    "# Prepare data for linear regression\n",
    "X = np.arange(len(rolling_mean)).reshape(-1, 1)\n",
    "y = rolling_mean.values.reshape(-1, 1)\n",
    "\n",
    "# Use NumPy for linear regression\n",
    "slope = np.polyfit(X.flatten(), y.flatten(), 1)[0]\n",
    "\n",
    "# Print the calculated slope\n",
    "print(\"52-Week Slope:\", slope)\n"
   ]
  },
  {
   "cell_type": "code",
   "execution_count": 31,
   "metadata": {},
   "outputs": [
    {
     "name": "stdout",
     "output_type": "stream",
     "text": [
      "52-Week Slope: 0.055800132942397516\n"
     ]
    }
   ],
   "source": [
    "# Calculate the 52-week rolling mean with a 20 day lag \n",
    "# Drop NaN values introduced by the rolling mean calculation\n",
    "lagged_rolling_mean = rolling_mean.shift(20).dropna()\n",
    "\n",
    "# Prepare data for linear regression\n",
    "X = np.arange(len(lagged_rolling_mean)).reshape(-1, 1)\n",
    "y = lagged_rolling_mean.values.reshape(-1, 1)\n",
    "\n",
    "# Use NumPy for linear regression\n",
    "slope = np.polyfit(X.flatten(), y.flatten(), 1)[0]\n",
    "\n",
    "# Print the calculated slope\n",
    "print(\"52-Week Slope:\", slope)"
   ]
  },
  {
   "cell_type": "code",
   "execution_count": 58,
   "metadata": {},
   "outputs": [
    {
     "data": {
      "text/plain": [
       "A      -0.201892\n",
       "AAL    -0.005509\n",
       "AAPL    0.208212\n",
       "ABBV   -0.036966\n",
       "ABNB    0.155169\n",
       "          ...   \n",
       "YUM     0.000418\n",
       "ZBH    -0.032652\n",
       "ZBRA   -0.220058\n",
       "ZION   -0.073594\n",
       "ZTS     0.114156\n",
       "Name: 0, Length: 501, dtype: float64"
      ]
     },
     "execution_count": 58,
     "metadata": {},
     "output_type": "execute_result"
    }
   ],
   "source": [
    "\n",
    "# 20 day lag time period \n",
    "starting_period = -20 -252\n",
    "end_period = -20\n",
    "lagged_closed_price = sp500[starting_period : end_period]\n",
    "\n",
    "# calculating 52 Week trend \n",
    "polyfit_regression = np.polyfit((range(0,252)), lagged_closed_price, 1) \n",
    "# The first parameter of our regression is x, 0-252 days. Second is the y, Closing price for slice of data with 20 - day lag\n",
    "slope_info = pd.DataFrame(polyfit_regression) # Convert so that we can use the results\n",
    "slope_info.columns = sp500.columns # Setting column names to match ticker\n",
    "_52_week_trend= slope_info.iloc[0] # Only need first row \n",
    "_52_week_trend"
   ]
  },
  {
   "cell_type": "code",
   "execution_count": 44,
   "metadata": {},
   "outputs": [
    {
     "data": {
      "text/html": [
       "<div>\n",
       "<style scoped>\n",
       "    .dataframe tbody tr th:only-of-type {\n",
       "        vertical-align: middle;\n",
       "    }\n",
       "\n",
       "    .dataframe tbody tr th {\n",
       "        vertical-align: top;\n",
       "    }\n",
       "\n",
       "    .dataframe thead th {\n",
       "        text-align: right;\n",
       "    }\n",
       "</style>\n",
       "<table border=\"1\" class=\"dataframe\">\n",
       "  <thead>\n",
       "    <tr style=\"text-align: right;\">\n",
       "      <th></th>\n",
       "      <th>0</th>\n",
       "      <th>1</th>\n",
       "      <th>2</th>\n",
       "      <th>3</th>\n",
       "      <th>4</th>\n",
       "      <th>5</th>\n",
       "      <th>6</th>\n",
       "      <th>7</th>\n",
       "      <th>8</th>\n",
       "      <th>9</th>\n",
       "      <th>...</th>\n",
       "      <th>491</th>\n",
       "      <th>492</th>\n",
       "      <th>493</th>\n",
       "      <th>494</th>\n",
       "      <th>495</th>\n",
       "      <th>496</th>\n",
       "      <th>497</th>\n",
       "      <th>498</th>\n",
       "      <th>499</th>\n",
       "      <th>500</th>\n",
       "    </tr>\n",
       "  </thead>\n",
       "  <tbody>\n",
       "    <tr>\n",
       "      <th>0</th>\n",
       "      <td>-0.18031</td>\n",
       "      <td>-0.009383</td>\n",
       "      <td>0.214895</td>\n",
       "      <td>-0.038531</td>\n",
       "      <td>0.136895</td>\n",
       "      <td>-0.034050</td>\n",
       "      <td>0.096279</td>\n",
       "      <td>0.261030</td>\n",
       "      <td>1.208095</td>\n",
       "      <td>0.018377</td>\n",
       "      <td>...</td>\n",
       "      <td>-0.040434</td>\n",
       "      <td>-0.045990</td>\n",
       "      <td>0.001338</td>\n",
       "      <td>-0.011804</td>\n",
       "      <td>-0.042581</td>\n",
       "      <td>-0.012404</td>\n",
       "      <td>-0.067215</td>\n",
       "      <td>-0.308605</td>\n",
       "      <td>-0.051220</td>\n",
       "      <td>0.093069</td>\n",
       "    </tr>\n",
       "    <tr>\n",
       "      <th>1</th>\n",
       "      <td>151.28059</td>\n",
       "      <td>15.676822</td>\n",
       "      <td>141.291366</td>\n",
       "      <td>150.718516</td>\n",
       "      <td>103.989485</td>\n",
       "      <td>107.573083</td>\n",
       "      <td>61.424092</td>\n",
       "      <td>261.061523</td>\n",
       "      <td>296.995618</td>\n",
       "      <td>175.668324</td>\n",
       "      <td>...</td>\n",
       "      <td>104.184619</td>\n",
       "      <td>68.997392</td>\n",
       "      <td>106.717659</td>\n",
       "      <td>37.559250</td>\n",
       "      <td>107.874634</td>\n",
       "      <td>130.249062</td>\n",
       "      <td>133.396846</td>\n",
       "      <td>308.433066</td>\n",
       "      <td>41.862322</td>\n",
       "      <td>158.452118</td>\n",
       "    </tr>\n",
       "  </tbody>\n",
       "</table>\n",
       "<p>2 rows × 501 columns</p>\n",
       "</div>"
      ],
      "text/plain": [
       "         0          1           2           3           4           5    \\\n",
       "0   -0.18031  -0.009383    0.214895   -0.038531    0.136895   -0.034050   \n",
       "1  151.28059  15.676822  141.291366  150.718516  103.989485  107.573083   \n",
       "\n",
       "         6           7           8           9    ...         491        492  \\\n",
       "0   0.096279    0.261030    1.208095    0.018377  ...   -0.040434  -0.045990   \n",
       "1  61.424092  261.061523  296.995618  175.668324  ...  104.184619  68.997392   \n",
       "\n",
       "          493        494         495         496         497         498  \\\n",
       "0    0.001338  -0.011804   -0.042581   -0.012404   -0.067215   -0.308605   \n",
       "1  106.717659  37.559250  107.874634  130.249062  133.396846  308.433066   \n",
       "\n",
       "         499         500  \n",
       "0  -0.051220    0.093069  \n",
       "1  41.862322  158.452118  \n",
       "\n",
       "[2 rows x 501 columns]"
      ]
     },
     "execution_count": 44,
     "metadata": {},
     "output_type": "execute_result"
    }
   ],
   "source": [
    "pd.DataFrame(np.polyfit(range(len(sp500[-2 - 252 : -2])), sp500[-2 - 252 : -2], 1))"
   ]
  },
  {
   "cell_type": "code",
   "execution_count": 61,
   "metadata": {},
   "outputs": [
    {
     "name": "stdout",
     "output_type": "stream",
     "text": [
      "1\n",
      "2\n",
      "3\n",
      "4\n",
      "5\n",
      "6\n",
      "7\n",
      "8\n",
      "9\n",
      "10\n",
      "11\n",
      "12\n",
      "13\n",
      "14\n",
      "15\n",
      "16\n",
      "17\n",
      "18\n",
      "19\n",
      "20\n"
     ]
    }
   ],
   "source": [
    "for i in range(1,21):\n",
    "    print(i)"
   ]
  },
  {
   "cell_type": "code",
   "execution_count": 57,
   "metadata": {},
   "outputs": [
    {
     "data": {
      "text/plain": [
       "A      -0.195110\n",
       "AAL    -0.007703\n",
       "AAPL    0.212375\n",
       "ABBV   -0.041042\n",
       "ABNB    0.145643\n",
       "          ...   \n",
       "YUM    -0.007209\n",
       "ZBH    -0.053532\n",
       "ZBRA   -0.273062\n",
       "ZION   -0.061951\n",
       "ZTS     0.100985\n",
       "Length: 501, dtype: float64"
      ]
     },
     "execution_count": 57,
     "metadata": {},
     "output_type": "execute_result"
    }
   ],
   "source": [
    "def trendline(ticker):\n",
    "    df = pd.DataFrame(index=tickers)\n",
    "    \n",
    "    # for 20 day\n",
    "    for i in range(1,21):\n",
    "        df[i] = np.polyfit(range(len(sp500[-i - 252 : -i])), sp500[-i - 252 : -i], 1)[0]\n",
    "    # averages out the day\n",
    "    return df.mean(axis=1)\n",
    "    \n",
    "trendline(ticker=tickers)"
   ]
  },
  {
   "cell_type": "code",
   "execution_count": 33,
   "metadata": {},
   "outputs": [
    {
     "name": "stdout",
     "output_type": "stream",
     "text": [
      "52-Week Slope: 0.05183973686820035\n"
     ]
    }
   ],
   "source": [
    "lag = 20\n",
    "lagged_rolling_mean = sp500['A'].rolling(window=52).mean().shift(lag).dropna()\n",
    "\n",
    "# Prepare data for linear regression\n",
    "X = np.arange(len(lagged_rolling_mean)).reshape(-1, 1)\n",
    "y = lagged_rolling_mean.values.reshape(-1, 1)\n",
    "\n",
    "# Use NumPy for linear regression\n",
    "slope = np.polyfit(X.flatten(), y.flatten(), 1)[0]\n",
    "\n",
    "# Print the calculated slope\n",
    "print(\"52-Week Slope:\", slope)"
   ]
  },
  {
   "cell_type": "code",
   "execution_count": 34,
   "metadata": {},
   "outputs": [
    {
     "ename": "NameError",
     "evalue": "name 'data' is not defined",
     "output_type": "error",
     "traceback": [
      "\u001b[0;31m---------------------------------------------------------------------------\u001b[0m",
      "\u001b[0;31mNameError\u001b[0m                                 Traceback (most recent call last)",
      "\u001b[1;32m/Users/alex/Documents/GitHub/Quantative-Finance-Repo/Final-Project/workbooks/draft.ipynb Cell 12\u001b[0m line \u001b[0;36m2\n\u001b[1;32m     <a href='vscode-notebook-cell:/Users/alex/Documents/GitHub/Quantative-Finance-Repo/Final-Project/workbooks/draft.ipynb#X13sZmlsZQ%3D%3D?line=22'>23</a>\u001b[0m all_asset \u001b[39m=\u001b[39m {}\n\u001b[1;32m     <a href='vscode-notebook-cell:/Users/alex/Documents/GitHub/Quantative-Finance-Repo/Final-Project/workbooks/draft.ipynb#X13sZmlsZQ%3D%3D?line=24'>25</a>\u001b[0m \u001b[39mfor\u001b[39;00m asset \u001b[39min\u001b[39;00m SPY_tickers:\n\u001b[0;32m---> <a href='vscode-notebook-cell:/Users/alex/Documents/GitHub/Quantative-Finance-Repo/Final-Project/workbooks/draft.ipynb#X13sZmlsZQ%3D%3D?line=25'>26</a>\u001b[0m     assets_momentum_factors \u001b[39m=\u001b[39m data[asset]\u001b[39m.\u001b[39mapply(calculate_momentum_factors)\n\u001b[1;32m     <a href='vscode-notebook-cell:/Users/alex/Documents/GitHub/Quantative-Finance-Repo/Final-Project/workbooks/draft.ipynb#X13sZmlsZQ%3D%3D?line=27'>28</a>\u001b[0m \u001b[39m# Display the calculated price momentum factors\u001b[39;00m\n\u001b[1;32m     <a href='vscode-notebook-cell:/Users/alex/Documents/GitHub/Quantative-Finance-Repo/Final-Project/workbooks/draft.ipynb#X13sZmlsZQ%3D%3D?line=28'>29</a>\u001b[0m \u001b[39m# print(\"ETF Momentum Factors:\")\u001b[39;00m\n\u001b[1;32m     <a href='vscode-notebook-cell:/Users/alex/Documents/GitHub/Quantative-Finance-Repo/Final-Project/workbooks/draft.ipynb#X13sZmlsZQ%3D%3D?line=29'>30</a>\u001b[0m \u001b[39m# print(etf_momentum_factors.head())\u001b[39;00m\n\u001b[1;32m     <a href='vscode-notebook-cell:/Users/alex/Documents/GitHub/Quantative-Finance-Repo/Final-Project/workbooks/draft.ipynb#X13sZmlsZQ%3D%3D?line=30'>31</a>\u001b[0m \u001b[39mprint\u001b[39m(\u001b[39m\"\u001b[39m\u001b[39m\\n\u001b[39;00m\u001b[39mAsset Momentum Factors:\u001b[39m\u001b[39m\"\u001b[39m)\n",
      "\u001b[0;31mNameError\u001b[0m: name 'data' is not defined"
     ]
    }
   ],
   "source": [
    "# Step 3: Calculate the price momentum factors for each asset in your ETF\n",
    "\n",
    "def calculate_momentum_factors(data, lag=20):\n",
    "    # Factor 1: Slope of 52-week trend line (20-day lag)\n",
    "    data['Slope_52Week'] = data['Close'].pct_change(252 - lag).rolling(window=20).mean() * 100\n",
    "\n",
    "    # Factor 2: Percent above 260-day low (20-day lag)\n",
    "    data['Percent_Above_260Day_Low'] = (data['Close'] - data['Low'].rolling(window=260 - lag).min()) / (data['High'].rolling(window=260 - lag).max() - data['Low'].rolling(window=260 - lag).min()) * 100\n",
    "\n",
    "    # Factor 3: 4/52 Week Price Oscillator (20-day lag)\n",
    "    data['Price_Oscillator'] = (data['Close'].rolling(window=4).mean() / data['Close'].rolling(window=52 - lag).mean() - 1) * 100\n",
    "\n",
    "    # Factor 4: 39-week return (20-day lag)\n",
    "    data['39Week_Return'] = data['Close'].pct_change(39 - lag) * 100\n",
    "\n",
    "    # Factor 5: 51-week Volume Price Trend (20-day lag)\n",
    "    data['Volume_Price_Trend'] = (data['Close'].pct_change() * data['Volume']).rolling(window=51 - lag).sum()\n",
    "\n",
    "    return data[['Slope_52Week', 'Percent_Above_260Day_Low', 'Price_Oscillator', '39Week_Return', 'Volume_Price_Trend']]\n",
    "\n",
    "# Apply the function to ETF data and asset data\n",
    "#etf_momentum_factors = calculate_momentum_factors(data)\n",
    "all_asset = {}\n",
    "\n",
    "for asset in SPY_tickers:\n",
    "    assets_momentum_factors = data[asset].apply(calculate_momentum_factors)\n",
    "\n",
    "# Display the calculated price momentum factors\n",
    "# print(\"ETF Momentum Factors:\")\n",
    "# print(etf_momentum_factors.head())\n",
    "print(\"\\nAsset Momentum Factors:\")\n",
    "print(assets_momentum_factors.head())\n",
    "\n",
    "# # Displaying the signals for each asset\n",
    "# for asset, signals in assets_momentum_factors.items():\n",
    "#     print(f\"Signals for {asset}:\\n{signals}\\n\")\n",
    "\n"
   ]
  },
  {
   "cell_type": "code",
   "execution_count": null,
   "metadata": {},
   "outputs": [],
   "source": []
  }
 ],
 "metadata": {
  "kernelspec": {
   "display_name": "base",
   "language": "python",
   "name": "python3"
  },
  "language_info": {
   "codemirror_mode": {
    "name": "ipython",
    "version": 3
   },
   "file_extension": ".py",
   "mimetype": "text/x-python",
   "name": "python",
   "nbconvert_exporter": "python",
   "pygments_lexer": "ipython3",
   "version": "3.8.17"
  }
 },
 "nbformat": 4,
 "nbformat_minor": 2
}
