{
 "cells": [
  {
   "cell_type": "code",
   "execution_count": 14,
   "metadata": {},
   "outputs": [],
   "source": [
    "import pandas as pd\n",
    "import numpy as np\n",
    "import yfinance as yf\n",
    "from datetime import datetime\n",
    "import os\n"
   ]
  },
  {
   "cell_type": "code",
   "execution_count": 12,
   "metadata": {},
   "outputs": [
    {
     "name": "stderr",
     "output_type": "stream",
     "text": [
      "C:\\Users\\jeanb\\AppData\\Local\\Packages\\PythonSoftwareFoundation.Python.3.11_qbz5n2kfra8p0\\LocalCache\\local-packages\\Python311\\site-packages\\yfinance\\utils.py:775: FutureWarning: The 'unit' keyword in TimedeltaIndex construction is deprecated and will be removed in a future version. Use pd.to_timedelta instead.\n",
      "  df.index += _pd.TimedeltaIndex(dst_error_hours, 'h')\n",
      "C:\\Users\\jeanb\\AppData\\Local\\Packages\\PythonSoftwareFoundation.Python.3.11_qbz5n2kfra8p0\\LocalCache\\local-packages\\Python311\\site-packages\\yfinance\\utils.py:775: FutureWarning: The 'unit' keyword in TimedeltaIndex construction is deprecated and will be removed in a future version. Use pd.to_timedelta instead.\n",
      "  df.index += _pd.TimedeltaIndex(dst_error_hours, 'h')\n",
      "[                       0%%                      ]C:\\Users\\jeanb\\AppData\\Local\\Packages\\PythonSoftwareFoundation.Python.3.11_qbz5n2kfra8p0\\LocalCache\\local-packages\\Python311\\site-packages\\yfinance\\utils.py:775: FutureWarning: The 'unit' keyword in TimedeltaIndex construction is deprecated and will be removed in a future version. Use pd.to_timedelta instead.\n",
      "  df.index += _pd.TimedeltaIndex(dst_error_hours, 'h')\n",
      "[**********            20%%                      ]  2 of 10 completedC:\\Users\\jeanb\\AppData\\Local\\Packages\\PythonSoftwareFoundation.Python.3.11_qbz5n2kfra8p0\\LocalCache\\local-packages\\Python311\\site-packages\\yfinance\\utils.py:775: FutureWarning: The 'unit' keyword in TimedeltaIndex construction is deprecated and will be removed in a future version. Use pd.to_timedelta instead.\n",
      "  df.index += _pd.TimedeltaIndex(dst_error_hours, 'h')\n",
      "[**********            20%%                      ]  2 of 10 completedC:\\Users\\jeanb\\AppData\\Local\\Packages\\PythonSoftwareFoundation.Python.3.11_qbz5n2kfra8p0\\LocalCache\\local-packages\\Python311\\site-packages\\yfinance\\utils.py:775: FutureWarning: The 'unit' keyword in TimedeltaIndex construction is deprecated and will be removed in a future version. Use pd.to_timedelta instead.\n",
      "  df.index += _pd.TimedeltaIndex(dst_error_hours, 'h')\n",
      "[**********            20%%                      ]  2 of 10 completedC:\\Users\\jeanb\\AppData\\Local\\Packages\\PythonSoftwareFoundation.Python.3.11_qbz5n2kfra8p0\\LocalCache\\local-packages\\Python311\\site-packages\\yfinance\\utils.py:775: FutureWarning: The 'unit' keyword in TimedeltaIndex construction is deprecated and will be removed in a future version. Use pd.to_timedelta instead.\n",
      "  df.index += _pd.TimedeltaIndex(dst_error_hours, 'h')\n",
      "[**********************50%%                      ]  5 of 10 completedC:\\Users\\jeanb\\AppData\\Local\\Packages\\PythonSoftwareFoundation.Python.3.11_qbz5n2kfra8p0\\LocalCache\\local-packages\\Python311\\site-packages\\yfinance\\utils.py:775: FutureWarning: The 'unit' keyword in TimedeltaIndex construction is deprecated and will be removed in a future version. Use pd.to_timedelta instead.\n",
      "  df.index += _pd.TimedeltaIndex(dst_error_hours, 'h')\n",
      "[**********************50%%                      ]  5 of 10 completedC:\\Users\\jeanb\\AppData\\Local\\Packages\\PythonSoftwareFoundation.Python.3.11_qbz5n2kfra8p0\\LocalCache\\local-packages\\Python311\\site-packages\\yfinance\\utils.py:775: FutureWarning: The 'unit' keyword in TimedeltaIndex construction is deprecated and will be removed in a future version. Use pd.to_timedelta instead.\n",
      "  df.index += _pd.TimedeltaIndex(dst_error_hours, 'h')\n",
      "[**********************70%%********              ]  7 of 10 completedC:\\Users\\jeanb\\AppData\\Local\\Packages\\PythonSoftwareFoundation.Python.3.11_qbz5n2kfra8p0\\LocalCache\\local-packages\\Python311\\site-packages\\yfinance\\utils.py:775: FutureWarning: The 'unit' keyword in TimedeltaIndex construction is deprecated and will be removed in a future version. Use pd.to_timedelta instead.\n",
      "  df.index += _pd.TimedeltaIndex(dst_error_hours, 'h')\n",
      "[**********************80%%************          ]  8 of 10 completedC:\\Users\\jeanb\\AppData\\Local\\Packages\\PythonSoftwareFoundation.Python.3.11_qbz5n2kfra8p0\\LocalCache\\local-packages\\Python311\\site-packages\\yfinance\\utils.py:775: FutureWarning: The 'unit' keyword in TimedeltaIndex construction is deprecated and will be removed in a future version. Use pd.to_timedelta instead.\n",
      "  df.index += _pd.TimedeltaIndex(dst_error_hours, 'h')\n",
      "[*********************100%%**********************]  10 of 10 completed\n"
     ]
    }
   ],
   "source": [
    "tickers = ['TSLA', 'MRNA', 'NVDA', 'SMCI', 'NVR', 'ENPH', 'BLDR', 'CMG', 'AZO', 'AMD']\n",
    "current_date1 = datetime.now()\n",
    "current_date = pd.Timestamp.now().strftime('%Y-%m-%d')\n",
    "project_completion_date = datetime(2023, 11, 15)\n",
    "yf_data = yf.download(tickers, start='2023-11-15', end=current_date)['Adj Close']\n"
   ]
  },
  {
   "cell_type": "code",
   "execution_count": 13,
   "metadata": {},
   "outputs": [
    {
     "name": "stdout",
     "output_type": "stream",
     "text": [
      "Max Risk portfolio returns:\n",
      "Date\n",
      "2023-11-15     0.000000\n",
      "2023-11-16    -0.229908\n",
      "2023-11-17    -0.119416\n",
      "2023-11-20     2.524051\n",
      "2023-11-21     1.313788\n",
      "                ...    \n",
      "2024-03-25    73.374586\n",
      "2024-03-26    71.226122\n",
      "2024-03-27    72.282326\n",
      "2024-03-28    70.610383\n",
      "2024-04-01    71.007110\n",
      "Length: 93, dtype: float64\n",
      "Min Risk portfolio returns:\n",
      "Date\n",
      "2023-11-15     0.000000\n",
      "2023-11-16    -0.418284\n",
      "2023-11-17    -0.810145\n",
      "2023-11-20     0.191300\n",
      "2023-11-21     0.031863\n",
      "                ...    \n",
      "2024-03-25    27.794669\n",
      "2024-03-26    27.771752\n",
      "2024-03-27    28.702133\n",
      "2024-03-28    27.980746\n",
      "2024-04-01    27.770534\n",
      "Length: 93, dtype: float64\n",
      "Avegare Weekly Max Risk Portfolio Returns from Project Completion to Current Date (19 weeks): \n",
      "3.7372162988908584\n",
      "Avegare Weekly Min Risk Portfolio Returns from Project Completion to Current Date (19 weeks): \n",
      "1.4616070531156737\n"
     ]
    },
    {
     "name": "stderr",
     "output_type": "stream",
     "text": [
      "C:\\Users\\jeanb\\AppData\\Local\\Temp\\ipykernel_4540\\1788115954.py:34: FutureWarning: Series.__getitem__ treating keys as positions is deprecated. In a future version, integer keys will always be treated as labels (consistent with DataFrame behavior). To access a value by position, use `ser.iloc[pos]`\n",
      "  print (cumulative_returns_maximum_risk[-1]/weeks)\n",
      "C:\\Users\\jeanb\\AppData\\Local\\Temp\\ipykernel_4540\\1788115954.py:37: FutureWarning: Series.__getitem__ treating keys as positions is deprecated. In a future version, integer keys will always be treated as labels (consistent with DataFrame behavior). To access a value by position, use `ser.iloc[pos]`\n",
      "  print (cumulative_returns_minimal_risk[-1]/weeks)\n"
     ]
    }
   ],
   "source": [
    "\n",
    "\n",
    "\n",
    "\n",
    "# difference between the two dates\n",
    "difference_days = current_date1 - project_completion_date \n",
    "\n",
    "# number of weeks\n",
    "weeks = difference_days.days // 7\n",
    "\n",
    "\n",
    "weights_minimal_risk = {\n",
    "    'TSLA': 0.051118, 'MRNA': 0.101076, 'NVDA': 0.032128, 'SMCI': 0.010970,\n",
    "    'NVR': 0.293823, 'ENPH': 0.004250, 'BLDR': 0.002243, 'CMG': 0.080609,\n",
    "    'AZO': 0.377251, 'AMD': 0.046532\n",
    "}\n",
    "\n",
    "weights_maximum_risk = {\n",
    "    'TSLA': 0.013270, 'MRNA': 0.155588, 'NVDA': 0.250389, 'SMCI': 0.150165,\n",
    "    'NVR': 0.022550, 'ENPH': 0.073423, 'BLDR': 0.019092, 'CMG': 0.022661,\n",
    "    'AZO': 0.244763, 'AMD': 0.048099}\n",
    "\n",
    "    \n",
    "# Calculate daily portfolio returns for both scenarios\n",
    "portfolio_returns_minimal_risk = (yf_data.pct_change() * pd.Series(weights_minimal_risk)).sum(axis=1)\n",
    "portfolio_returns_maximum_risk = (yf_data.pct_change() * pd.Series(weights_maximum_risk)).sum(axis=1)\n",
    "\n",
    "\n",
    "# Calculate cumulative returns to see the overall performance\n",
    "cumulative_returns_minimal_risk = ((1 + portfolio_returns_minimal_risk).cumprod() - 1)*100\n",
    "cumulative_returns_maximum_risk = ((1 + portfolio_returns_maximum_risk).cumprod() - 1)*100\n",
    "print (\"Max Risk portfolio returns:\")\n",
    "print (cumulative_returns_maximum_risk)\n",
    "print (\"Min Risk portfolio returns:\")\n",
    "print (cumulative_returns_minimal_risk)\n",
    "\n",
    "print (f\"Avegare Weekly Max Risk Portfolio Returns from Project Completion to Current Date ({weeks} weeks): \")\n",
    "print (cumulative_returns_maximum_risk[-1]/weeks)\n",
    "\n",
    "print (f\"Avegare Weekly Min Risk Portfolio Returns from Project Completion to Current Date ({weeks} weeks): \")\n",
    "print (cumulative_returns_minimal_risk[-1]/weeks)\n",
    "\n"
   ]
  },
  {
   "cell_type": "code",
   "execution_count": 15,
   "metadata": {},
   "outputs": [
    {
     "name": "stdout",
     "output_type": "stream",
     "text": [
      "File saved to C:\\Users\\jeanb\\Documents\\GitHub\\Quantative-Finance-Repo\\Berry-Cox-Baskets\\new_output\\portfolio_returns.json\n"
     ]
    },
    {
     "name": "stderr",
     "output_type": "stream",
     "text": [
      "C:\\Users\\jeanb\\AppData\\Local\\Temp\\ipykernel_4540\\2172763295.py:14: FutureWarning: Series.__getitem__ treating keys as positions is deprecated. In a future version, integer keys will always be treated as labels (consistent with DataFrame behavior). To access a value by position, use `ser.iloc[pos]`\n",
      "  \"Max Risk Portfolio Returns\": cumulative_returns_maximum_risk[-1],\n",
      "C:\\Users\\jeanb\\AppData\\Local\\Temp\\ipykernel_4540\\2172763295.py:15: FutureWarning: Series.__getitem__ treating keys as positions is deprecated. In a future version, integer keys will always be treated as labels (consistent with DataFrame behavior). To access a value by position, use `ser.iloc[pos]`\n",
      "  \"Max Risk Portfolio Average Weekly Returns\": cumulative_returns_maximum_risk[-1] / weeks,\n",
      "C:\\Users\\jeanb\\AppData\\Local\\Temp\\ipykernel_4540\\2172763295.py:16: FutureWarning: Series.__getitem__ treating keys as positions is deprecated. In a future version, integer keys will always be treated as labels (consistent with DataFrame behavior). To access a value by position, use `ser.iloc[pos]`\n",
      "  \"Min Risk Portfolio Returns\": cumulative_returns_minimal_risk[-1],\n",
      "C:\\Users\\jeanb\\AppData\\Local\\Temp\\ipykernel_4540\\2172763295.py:17: FutureWarning: Series.__getitem__ treating keys as positions is deprecated. In a future version, integer keys will always be treated as labels (consistent with DataFrame behavior). To access a value by position, use `ser.iloc[pos]`\n",
      "  \"Min Risk Portfolio Average Weekly Returns\": cumulative_returns_minimal_risk[-1] / weeks,\n"
     ]
    }
   ],
   "source": [
    "import json\n",
    "\n",
    "output_dir = 'C:\\\\Users\\\\jeanb\\\\Documents\\\\GitHub\\\\Quantative-Finance-Repo\\\\Berry-Cox-Baskets\\\\new_output'\n",
    "os.makedirs(output_dir, exist_ok=True)\n",
    "\n",
    "# Define the full path for the JSON file\n",
    "json_file_path = os.path.join(output_dir, 'portfolio_returns.json')\n",
    "\n",
    "# Assuming 'portfolio_returns', 'cumulative_returns_maximum_risk', 'cumulative_returns_minimal_risk', and 'weeks'\n",
    "# are the variables containing the data you want to output\n",
    "output_data = {\n",
    "    #\"Portfolio 1 Returns\": portfolio_returns[-1],\n",
    "    #\"Portfolio 1 Average Weekly Returns\": portfolio_returns[-1] / weeks,\n",
    "    \"Max Risk Portfolio Returns\": cumulative_returns_maximum_risk[-1],\n",
    "    \"Max Risk Portfolio Average Weekly Returns\": cumulative_returns_maximum_risk[-1] / weeks,\n",
    "    \"Min Risk Portfolio Returns\": cumulative_returns_minimal_risk[-1],\n",
    "    \"Min Risk Portfolio Average Weekly Returns\": cumulative_returns_minimal_risk[-1] / weeks,\n",
    "    #\"Difference in E.W Portfolio and MaxRisk Portfolio\": cumulative_returns_maximum_risk[-1] - portfolio_returns[-1],\n",
    "    \n",
    "}\n",
    "\n",
    "# Convert the data to a JSON string\n",
    "json_data = json.dumps(output_data, indent=4)\n",
    "\n",
    "# Write the JSON data to the specified file\n",
    "with open(json_file_path, 'w') as json_file:\n",
    "    json_file.write(json_data)\n",
    "\n",
    "# Confirm the path where the file was saved\n",
    "print(f\"File saved to {json_file_path}\")"
   ]
  },
  {
   "cell_type": "code",
   "execution_count": null,
   "metadata": {},
   "outputs": [],
   "source": []
  }
 ],
 "metadata": {
  "kernelspec": {
   "display_name": "Python 3",
   "language": "python",
   "name": "python3"
  },
  "language_info": {
   "codemirror_mode": {
    "name": "ipython",
    "version": 3
   },
   "file_extension": ".py",
   "mimetype": "text/x-python",
   "name": "python",
   "nbconvert_exporter": "python",
   "pygments_lexer": "ipython3",
   "version": "3.11.8"
  }
 },
 "nbformat": 4,
 "nbformat_minor": 2
}
