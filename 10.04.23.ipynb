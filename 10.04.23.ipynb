{
 "cells": [
  {
   "cell_type": "code",
   "execution_count": 1,
   "metadata": {},
   "outputs": [],
   "source": [
    "# packages\n",
    "import pandas as pd\n",
    "import yfinance as yf\n",
    "\n"
   ]
  },
  {
   "cell_type": "code",
   "execution_count": 2,
   "metadata": {},
   "outputs": [
    {
     "data": {
      "text/plain": [
       "['NVDA', 'NFLX', 'GME', 'BB', 'NOK', 'AMZN', 'TSLA']"
      ]
     },
     "execution_count": 2,
     "metadata": {},
     "output_type": "execute_result"
    }
   ],
   "source": [
    "# Step 1: Choose seven (7) assets\n",
    "tickers = [\"NVDA\", \"NFLX\", \"GME\", \"BB\", \"NOK\", \"AMZN\", \"TSLA\"]\n",
    "tickers"
   ]
  },
  {
   "cell_type": "code",
   "execution_count": 9,
   "metadata": {},
   "outputs": [
    {
     "name": "stdout",
     "output_type": "stream",
     "text": [
      "[*********************100%%**********************]  7 of 7 completed\n"
     ]
    }
   ],
   "source": [
    "# Step 2: Retrieve daily open or close data on your assets for the previous 2 years\n",
    "df = yf.download(tickers, period='2y')"
   ]
  },
  {
   "cell_type": "code",
   "execution_count": 16,
   "metadata": {},
   "outputs": [],
   "source": [
    "# Filter Adj Close\n",
    "data = df['Adj Close']"
   ]
  },
  {
   "cell_type": "code",
   "execution_count": 18,
   "metadata": {},
   "outputs": [
    {
     "data": {
      "text/html": [
       "<div>\n",
       "<style scoped>\n",
       "    .dataframe tbody tr th:only-of-type {\n",
       "        vertical-align: middle;\n",
       "    }\n",
       "\n",
       "    .dataframe tbody tr th {\n",
       "        vertical-align: top;\n",
       "    }\n",
       "\n",
       "    .dataframe thead th {\n",
       "        text-align: right;\n",
       "    }\n",
       "</style>\n",
       "<table border=\"1\" class=\"dataframe\">\n",
       "  <thead>\n",
       "    <tr style=\"text-align: right;\">\n",
       "      <th></th>\n",
       "      <th>AMZN</th>\n",
       "      <th>BB</th>\n",
       "      <th>GME</th>\n",
       "      <th>NFLX</th>\n",
       "      <th>NOK</th>\n",
       "      <th>NVDA</th>\n",
       "      <th>TSLA</th>\n",
       "    </tr>\n",
       "  </thead>\n",
       "  <tbody>\n",
       "    <tr>\n",
       "      <th>count</th>\n",
       "      <td>504.000000</td>\n",
       "      <td>504.000000</td>\n",
       "      <td>504.000000</td>\n",
       "      <td>504.000000</td>\n",
       "      <td>504.000000</td>\n",
       "      <td>504.000000</td>\n",
       "      <td>504.000000</td>\n",
       "    </tr>\n",
       "    <tr>\n",
       "      <th>mean</th>\n",
       "      <td>127.645041</td>\n",
       "      <td>5.945883</td>\n",
       "      <td>28.236181</td>\n",
       "      <td>362.927500</td>\n",
       "      <td>4.670033</td>\n",
       "      <td>252.932816</td>\n",
       "      <td>252.757905</td>\n",
       "    </tr>\n",
       "    <tr>\n",
       "      <th>std</th>\n",
       "      <td>26.304749</td>\n",
       "      <td>1.951194</td>\n",
       "      <td>9.138803</td>\n",
       "      <td>134.621381</td>\n",
       "      <td>0.566654</td>\n",
       "      <td>101.087433</td>\n",
       "      <td>65.050793</td>\n",
       "    </tr>\n",
       "    <tr>\n",
       "      <th>min</th>\n",
       "      <td>81.820000</td>\n",
       "      <td>3.180000</td>\n",
       "      <td>14.580000</td>\n",
       "      <td>166.369995</td>\n",
       "      <td>3.615000</td>\n",
       "      <td>112.201363</td>\n",
       "      <td>108.099998</td>\n",
       "    </tr>\n",
       "    <tr>\n",
       "      <th>25%</th>\n",
       "      <td>104.810003</td>\n",
       "      <td>4.567500</td>\n",
       "      <td>21.617501</td>\n",
       "      <td>253.320004</td>\n",
       "      <td>4.202894</td>\n",
       "      <td>169.903561</td>\n",
       "      <td>197.737495</td>\n",
       "    </tr>\n",
       "    <tr>\n",
       "      <th>50%</th>\n",
       "      <td>126.045002</td>\n",
       "      <td>5.330000</td>\n",
       "      <td>25.370000</td>\n",
       "      <td>343.925003</td>\n",
       "      <td>4.606058</td>\n",
       "      <td>232.427322</td>\n",
       "      <td>253.989998</td>\n",
       "    </tr>\n",
       "    <tr>\n",
       "      <th>75%</th>\n",
       "      <td>145.749256</td>\n",
       "      <td>6.742500</td>\n",
       "      <td>33.779999</td>\n",
       "      <td>424.127495</td>\n",
       "      <td>5.017904</td>\n",
       "      <td>296.288315</td>\n",
       "      <td>296.761658</td>\n",
       "    </tr>\n",
       "    <tr>\n",
       "      <th>max</th>\n",
       "      <td>184.802994</td>\n",
       "      <td>11.730000</td>\n",
       "      <td>61.887501</td>\n",
       "      <td>691.690002</td>\n",
       "      <td>6.055205</td>\n",
       "      <td>493.509338</td>\n",
       "      <td>409.970001</td>\n",
       "    </tr>\n",
       "  </tbody>\n",
       "</table>\n",
       "</div>"
      ],
      "text/plain": [
       "             AMZN          BB         GME        NFLX         NOK        NVDA  \\\n",
       "count  504.000000  504.000000  504.000000  504.000000  504.000000  504.000000   \n",
       "mean   127.645041    5.945883   28.236181  362.927500    4.670033  252.932816   \n",
       "std     26.304749    1.951194    9.138803  134.621381    0.566654  101.087433   \n",
       "min     81.820000    3.180000   14.580000  166.369995    3.615000  112.201363   \n",
       "25%    104.810003    4.567500   21.617501  253.320004    4.202894  169.903561   \n",
       "50%    126.045002    5.330000   25.370000  343.925003    4.606058  232.427322   \n",
       "75%    145.749256    6.742500   33.779999  424.127495    5.017904  296.288315   \n",
       "max    184.802994   11.730000   61.887501  691.690002    6.055205  493.509338   \n",
       "\n",
       "             TSLA  \n",
       "count  504.000000  \n",
       "mean   252.757905  \n",
       "std     65.050793  \n",
       "min    108.099998  \n",
       "25%    197.737495  \n",
       "50%    253.989998  \n",
       "75%    296.761658  \n",
       "max    409.970001  "
      ]
     },
     "execution_count": 18,
     "metadata": {},
     "output_type": "execute_result"
    }
   ],
   "source": [
    "# Step 3: Calculate the mean, variance, and correlation matrix for all assets\n",
    "\n",
    "# calculate mean, variance, and correlation\n",
    "data.describe()"
   ]
  },
  {
   "cell_type": "code",
   "execution_count": 20,
   "metadata": {},
   "outputs": [
    {
     "data": {
      "text/plain": [
       "AMZN      691.939819\n",
       "BB          3.807160\n",
       "GME        83.517715\n",
       "NFLX    18122.916184\n",
       "NOK         0.321097\n",
       "NVDA    10218.669204\n",
       "TSLA     4231.605678\n",
       "dtype: float64"
      ]
     },
     "execution_count": 20,
     "metadata": {},
     "output_type": "execute_result"
    }
   ],
   "source": [
    "data.var()"
   ]
  },
  {
   "cell_type": "code",
   "execution_count": 19,
   "metadata": {},
   "outputs": [
    {
     "data": {
      "text/plain": [
       "AMZN    127.645041\n",
       "BB        5.945883\n",
       "GME      28.236181\n",
       "NFLX    362.927500\n",
       "NOK       4.670033\n",
       "NVDA    252.932816\n",
       "TSLA    252.757905\n",
       "dtype: float64"
      ]
     },
     "execution_count": 19,
     "metadata": {},
     "output_type": "execute_result"
    }
   ],
   "source": [
    "data.mean()"
   ]
  },
  {
   "cell_type": "code",
   "execution_count": 12,
   "metadata": {},
   "outputs": [],
   "source": [
    "# Step 4: Calculate efficient frontier and optimal weights for your portfolio (Don’t forget the output!)\n"
   ]
  },
  {
   "cell_type": "code",
   "execution_count": 13,
   "metadata": {},
   "outputs": [],
   "source": [
    "# Step 5: Use MatPlotLib or Seaborn libraries to graph the results (matrix and frontier)"
   ]
  },
  {
   "cell_type": "code",
   "execution_count": 14,
   "metadata": {},
   "outputs": [],
   "source": [
    "# Step 6: Output the calculated optimal weighting (identify portfolio weightings for optimum Sharpe Ratio) along with the efficient frontier and correlation matrix charts. Output to a saved file.\n"
   ]
  }
 ],
 "metadata": {
  "kernelspec": {
   "display_name": "my_python_project",
   "language": "python",
   "name": "python3"
  },
  "language_info": {
   "codemirror_mode": {
    "name": "ipython",
    "version": 3
   },
   "file_extension": ".py",
   "mimetype": "text/x-python",
   "name": "python",
   "nbconvert_exporter": "python",
   "pygments_lexer": "ipython3",
   "version": "3.8.17"
  },
  "orig_nbformat": 4
 },
 "nbformat": 4,
 "nbformat_minor": 2
}
